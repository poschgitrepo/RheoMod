{
 "cells": [
  {
   "cell_type": "markdown",
   "metadata": {},
   "source": [
    "# RhoeMod - Evaluation of Rheological Models\n",
    "\n",
    "Wir arbeitern mit Anaconda  und Python 3.7\n",
    "\n",
    "## Erstellen einer GUI\n",
    "\n",
    "### 1.) Öffnen des QT Designers\n",
    "\n",
    "Öffnen Sie eine Terminal oder das Anaconda Promt Shell  tippen sie:\n",
    "\n",
    "```Python \n",
    "designer \n",
    "```\n",
    "folgendes Fenster sollte sich öffnen: \n",
    "\n",
    "<img style=\"float: left;\" src=\"./PIC/i1.png\"  width=\"500\" >\n",
    "\n",
    "\n",
    "\n",
    "\n",
    "\n"
   ]
  },
  {
   "cell_type": "markdown",
   "metadata": {},
   "source": [
    "### 2.) Erstellen eines Dialogfensters\n",
    "\n",
    "Erstellen wir nun ein Fenster mit Dialog\n",
    "\n",
    "\n",
    "<img style=\"float: left;\" src=\"./PIC/i2.png\"  width=\"500\" >"
   ]
  },
  {
   "cell_type": "markdown",
   "metadata": {},
   "source": [
    "Benennen sie das Fesnster und stellen sie ein Label ein. \n",
    "\n",
    "<img style=\"float: left;\" src=\"./PIC/i11.png\">"
   ]
  },
  {
   "cell_type": "markdown",
   "metadata": {},
   "source": [
    "### 3.) Strukturieren der GUI durch Group Boxes \n",
    "\n",
    "<img style=\"float: left;\" src=\"./PIC/i3.png\">\n",
    "\n"
   ]
  },
  {
   "cell_type": "markdown",
   "metadata": {},
   "source": [
    "Teilen sie vor Beginn der eigentlichen Gestaltung der App die Einzelnen Bereiche in Group Boxen ein. Ziehen sie hierzu das Group Box Symbol in das  Fesnter  und erstellen Sie sich die benötigten Einteilungen. Achten sie dabei darauf wie welche Boxen geschachtelt sind. Dies kann man in der Objektanzeige einsehen. "
   ]
  },
  {
   "cell_type": "markdown",
   "metadata": {},
   "source": [
    "<img style=\"float: left;\" src=\"./PIC/i4.png\">"
   ]
  },
  {
   "cell_type": "markdown",
   "metadata": {},
   "source": [
    "Nachfolgend sollte die Einteilung unserer Rheo-Mod App wie folgt aussehen:"
   ]
  },
  {
   "cell_type": "markdown",
   "metadata": {},
   "source": [
    "<img style=\"float: left;\" src=\"./PIC/i5.png\" width=\"500\">"
   ]
  },
  {
   "cell_type": "markdown",
   "metadata": {},
   "source": [
    "### 4.) Erstellen eines Tab Widget für die Modellparameter\n",
    "\n",
    "Zeihen sie in die Group Box \"Base Modell Parameter\" ein Tab Widget\n",
    "\n",
    "<img style=\"float: left;\" src=\"./PIC/i8.png\">"
   ]
  },
  {
   "cell_type": "markdown",
   "metadata": {},
   "source": [
    "Erstellen sie nachfolgende Reiter\n",
    "\n",
    "<img style=\"float: left;\" src=\"./PIC/i6.png\">"
   ]
  },
  {
   "cell_type": "markdown",
   "metadata": {},
   "source": [
    "Diese sollten dann wie folgt in der Objektanzeige angeordnet sein.\n",
    "\n",
    "<img style=\"float: left;\" src=\"./PIC/i7.png\">"
   ]
  },
  {
   "cell_type": "markdown",
   "metadata": {},
   "source": [
    "Den Namen des jeweiligen Tabs (Objekt und Anzeigename ) können sie in den Objekteinstellungen ändern.\n",
    "\n",
    "\n",
    "<img style=\"float: left;\" src=\"./PIC/i9.png\"><img style=\"float: left;\" src=\"./PIC/i10.png\">"
   ]
  },
  {
   "cell_type": "markdown",
   "metadata": {},
   "source": [
    "## Umwandeln der .ui Datei in eine .py\n",
    "\n",
    "```Terminal\n",
    "\n",
    "\\RheoMod\\GUI> pyuic5 -x  RheoModGui.ui -o RhoeModProg.py\n",
    "\n",
    "```"
   ]
  },
  {
   "cell_type": "code",
   "execution_count": null,
   "metadata": {},
   "outputs": [],
   "source": []
  }
 ],
 "metadata": {
  "kernelspec": {
   "display_name": "Python 3",
   "language": "python",
   "name": "python3"
  },
  "language_info": {
   "codemirror_mode": {
    "name": "ipython",
    "version": 3
   },
   "file_extension": ".py",
   "mimetype": "text/x-python",
   "name": "python",
   "nbconvert_exporter": "python",
   "pygments_lexer": "ipython3",
   "version": "3.7.6"
  }
 },
 "nbformat": 4,
 "nbformat_minor": 2
}
